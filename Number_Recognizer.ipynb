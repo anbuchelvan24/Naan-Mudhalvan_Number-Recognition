{
  "metadata": {
    "kernelspec": {
      "language": "python",
      "display_name": "Python 3",
      "name": "python3"
    },
    "language_info": {
      "name": "python",
      "version": "3.10.13",
      "mimetype": "text/x-python",
      "codemirror_mode": {
        "name": "ipython",
        "version": 3
      },
      "pygments_lexer": "ipython3",
      "nbconvert_exporter": "python",
      "file_extension": ".py"
    },
    "kaggle": {
      "accelerator": "none",
      "dataSources": [
        {
          "sourceId": 3004,
          "databundleVersionId": 861823,
          "sourceType": "competition"
        }
      ],
      "dockerImageVersionId": 30673,
      "isInternetEnabled": true,
      "language": "python",
      "sourceType": "notebook",
      "isGpuEnabled": false
    },
    "colab": {
      "provenance": [],
      "include_colab_link": true
    }
  },
  "nbformat_minor": 0,
  "nbformat": 4,
  "cells": [
    {
      "cell_type": "markdown",
      "metadata": {
        "id": "view-in-github",
        "colab_type": "text"
      },
      "source": [
        "<a href=\"https://colab.research.google.com/github/anbuchelvan24/Number-Recognizer-NM-Gen-AI-/blob/main/Number_Recognizer.ipynb\" target=\"_parent\"><img src=\"https://colab.research.google.com/assets/colab-badge.svg\" alt=\"Open In Colab\"/></a>"
      ]
    },
    {
      "cell_type": "code",
      "source": [
        "import numpy as np\n",
        "import pandas as pd\n",
        "import os\n",
        "for dirname, _, filenames in os.walk('/content/kaggle/input'):\n",
        "    for filename in filenames:\n",
        "        print(os.path.join(dirname, filename))\n",
        "\n"
      ],
      "metadata": {
        "_uuid": "8f2839f25d086af736a60e9eeb907d3b93b6e0e5",
        "_cell_guid": "b1076dfc-b9ad-4769-8c92-a6c4dae69d19",
        "execution": {
          "iopub.status.busy": "2024-03-30T09:13:19.30242Z",
          "iopub.execute_input": "2024-03-30T09:13:19.302784Z",
          "iopub.status.idle": "2024-03-30T09:13:20.577513Z",
          "shell.execute_reply.started": "2024-03-30T09:13:19.302754Z",
          "shell.execute_reply": "2024-03-30T09:13:20.57639Z"
        },
        "trusted": true,
        "id": "0e5dO65xujFE",
        "colab": {
          "base_uri": "https://localhost:8080/"
        },
        "outputId": "c11fc82f-2bac-4c0c-bf7a-cd0efeb92975"
      },
      "execution_count": 3,
      "outputs": [
        {
          "output_type": "stream",
          "name": "stdout",
          "text": [
            "/content/kaggle/input/sample_submission.csv\n",
            "/content/kaggle/input/test.csv\n",
            "/content/kaggle/input/train.csv\n"
          ]
        }
      ]
    },
    {
      "cell_type": "code",
      "source": [
        "import tensorflow\n",
        "from tensorflow import keras\n",
        "from tensorflow.keras import Sequential\n",
        "from tensorflow.keras.layers import Dense, Flatten"
      ],
      "metadata": {
        "execution": {
          "iopub.status.busy": "2024-03-30T09:15:21.903699Z",
          "iopub.execute_input": "2024-03-30T09:15:21.904412Z",
          "iopub.status.idle": "2024-03-30T09:15:36.887019Z",
          "shell.execute_reply.started": "2024-03-30T09:15:21.904375Z",
          "shell.execute_reply": "2024-03-30T09:15:36.885755Z"
        },
        "trusted": true,
        "id": "nmVHcP0TujFF"
      },
      "execution_count": 4,
      "outputs": []
    },
    {
      "cell_type": "code",
      "source": [
        "(X_train,y_train),(X_test,y_test) = keras.datasets.mnist.load_data()"
      ],
      "metadata": {
        "execution": {
          "iopub.status.busy": "2024-03-30T09:15:47.027967Z",
          "iopub.execute_input": "2024-03-30T09:15:47.029359Z",
          "iopub.status.idle": "2024-03-30T09:15:47.630632Z",
          "shell.execute_reply.started": "2024-03-30T09:15:47.029296Z",
          "shell.execute_reply": "2024-03-30T09:15:47.629077Z"
        },
        "trusted": true,
        "id": "1dP5glggujFG",
        "outputId": "3b075137-1dfa-4a15-a1df-df30fb6a341d",
        "colab": {
          "base_uri": "https://localhost:8080/"
        }
      },
      "execution_count": 5,
      "outputs": [
        {
          "output_type": "stream",
          "name": "stdout",
          "text": [
            "Downloading data from https://storage.googleapis.com/tensorflow/tf-keras-datasets/mnist.npz\n",
            "11490434/11490434 [==============================] - 0s 0us/step\n"
          ]
        }
      ]
    },
    {
      "cell_type": "code",
      "source": [
        "import matplotlib.pyplot as plt\n",
        "plt.imshow(X_train[10])"
      ],
      "metadata": {
        "execution": {
          "iopub.status.busy": "2024-03-30T09:16:27.717216Z",
          "iopub.execute_input": "2024-03-30T09:16:27.717652Z",
          "iopub.status.idle": "2024-03-30T09:16:28.10507Z",
          "shell.execute_reply.started": "2024-03-30T09:16:27.717618Z",
          "shell.execute_reply": "2024-03-30T09:16:28.103468Z"
        },
        "trusted": true,
        "id": "c-Ww2A49ujFG",
        "outputId": "d224cc9e-a2c4-40e3-f964-59b41a77a3b2",
        "colab": {
          "base_uri": "https://localhost:8080/",
          "height": 447
        }
      },
      "execution_count": 28,
      "outputs": [
        {
          "output_type": "execute_result",
          "data": {
            "text/plain": [
              "<matplotlib.image.AxesImage at 0x7d5406b613f0>"
            ]
          },
          "metadata": {},
          "execution_count": 28
        },
        {
          "output_type": "display_data",
          "data": {
            "text/plain": [
              "<Figure size 640x480 with 1 Axes>"
            ],
            "image/png": "[encoded data removed]"
          },
          "metadata": {}
        }
      ]
    },
    {
      "cell_type": "code",
      "source": [
        "X_train = X_train/255\n",
        "X_test = X_test/255"
      ],
      "metadata": {
        "execution": {
          "iopub.status.busy": "2024-03-30T09:16:49.182841Z",
          "iopub.execute_input": "2024-03-30T09:16:49.183378Z",
          "iopub.status.idle": "2024-03-30T09:16:49.493791Z",
          "shell.execute_reply.started": "2024-03-30T09:16:49.18334Z",
          "shell.execute_reply": "2024-03-30T09:16:49.492284Z"
        },
        "trusted": true,
        "id": "nVCcHdy7ujFG"
      },
      "execution_count": 7,
      "outputs": []
    },
    {
      "cell_type": "code",
      "source": [
        "model = Sequential()\n",
        "model.add(Flatten(input_shape=(28,28)))\n",
        "model.add(Dense(128,activation='relu'))\n",
        "model.add(Dense(10,activation='softmax'))"
      ],
      "metadata": {
        "execution": {
          "iopub.status.busy": "2024-03-30T09:17:21.162937Z",
          "iopub.execute_input": "2024-03-30T09:17:21.164347Z",
          "iopub.status.idle": "2024-03-30T09:17:21.276457Z",
          "shell.execute_reply.started": "2024-03-30T09:17:21.164257Z",
          "shell.execute_reply": "2024-03-30T09:17:21.275241Z"
        },
        "trusted": true,
        "id": "2EOBiHFuujFG"
      },
      "execution_count": 8,
      "outputs": []
    },
    {
      "cell_type": "code",
      "source": [
        "model.summary()"
      ],
      "metadata": {
        "execution": {
          "iopub.status.busy": "2024-03-30T09:17:35.491888Z",
          "iopub.execute_input": "2024-03-30T09:17:35.492302Z",
          "iopub.status.idle": "2024-03-30T09:17:35.518587Z",
          "shell.execute_reply.started": "2024-03-30T09:17:35.492269Z",
          "shell.execute_reply": "2024-03-30T09:17:35.516938Z"
        },
        "trusted": true,
        "id": "GAWwVrYKujFG",
        "outputId": "e3b6f3bd-8de0-40e1-f14b-eaf5305b446c",
        "colab": {
          "base_uri": "https://localhost:8080/"
        }
      },
      "execution_count": 9,
      "outputs": [
        {
          "output_type": "stream",
          "name": "stdout",
          "text": [
            "Model: \"sequential\"\n",
            "_________________________________________________________________\n",
            " Layer (type)                Output Shape              Param #   \n",
            "=================================================================\n",
            " flatten (Flatten)           (None, 784)               0         \n",
            "                                                                 \n",
            " dense (Dense)               (None, 128)               100480    \n",
            "                                                                 \n",
            " dense_1 (Dense)             (None, 10)                1290      \n",
            "                                                                 \n",
            "=================================================================\n",
            "Total params: 101770 (397.54 KB)\n",
            "Trainable params: 101770 (397.54 KB)\n",
            "Non-trainable params: 0 (0.00 Byte)\n",
            "_________________________________________________________________\n"
          ]
        }
      ]
    },
    {
      "cell_type": "code",
      "source": [
        "model.compile(loss='sparse_categorical_crossentropy',optimizer='Adam',metrics=['accuracy'])"
      ],
      "metadata": {
        "execution": {
          "iopub.status.busy": "2024-03-30T09:17:57.870181Z",
          "iopub.execute_input": "2024-03-30T09:17:57.870801Z",
          "iopub.status.idle": "2024-03-30T09:17:57.886606Z",
          "shell.execute_reply.started": "2024-03-30T09:17:57.87077Z",
          "shell.execute_reply": "2024-03-30T09:17:57.88562Z"
        },
        "trusted": true,
        "id": "m9DOO0qbujFG"
      },
      "execution_count": 10,
      "outputs": []
    },
    {
      "cell_type": "code",
      "source": [
        "history = model.fit(X_train,y_train,epochs=15,validation_split=0.2)"
      ],
      "metadata": {
        "execution": {
          "iopub.status.busy": "2024-03-30T09:20:35.53319Z",
          "iopub.execute_input": "2024-03-30T09:20:35.534665Z",
          "iopub.status.idle": "2024-03-30T09:24:34.572854Z",
          "shell.execute_reply.started": "2024-03-30T09:20:35.534616Z",
          "shell.execute_reply": "2024-03-30T09:24:34.571134Z"
        },
        "trusted": true,
        "id": "1xvinvM7ujFG",
        "outputId": "437fc267-01d5-4169-b2f4-d970af24681f",
        "colab": {
          "base_uri": "https://localhost:8080/"
        }
      },
      "execution_count": 11,
      "outputs": [
        {
          "output_type": "stream",
          "name": "stdout",
          "text": [
            "Epoch 1/15\n",
            "1500/1500 [==============================] - 8s 5ms/step - loss: 0.2842 - accuracy: 0.9191 - val_loss: 0.1554 - val_accuracy: 0.9532\n",
            "Epoch 2/15\n",
            "1500/1500 [==============================] - 7s 5ms/step - loss: 0.1265 - accuracy: 0.9626 - val_loss: 0.1159 - val_accuracy: 0.9648\n",
            "Epoch 3/15\n",
            "1500/1500 [==============================] - 7s 5ms/step - loss: 0.0876 - accuracy: 0.9735 - val_loss: 0.1021 - val_accuracy: 0.9689\n",
            "Epoch 4/15\n",
            "1500/1500 [==============================] - 6s 4ms/step - loss: 0.0659 - accuracy: 0.9801 - val_loss: 0.0920 - val_accuracy: 0.9720\n",
            "Epoch 5/15\n",
            "1500/1500 [==============================] - 7s 5ms/step - loss: 0.0500 - accuracy: 0.9847 - val_loss: 0.0904 - val_accuracy: 0.9740\n",
            "Epoch 6/15\n",
            "1500/1500 [==============================] - 7s 5ms/step - loss: 0.0389 - accuracy: 0.9878 - val_loss: 0.0943 - val_accuracy: 0.9725\n",
            "Epoch 7/15\n",
            "1500/1500 [==============================] - 7s 5ms/step - loss: 0.0314 - accuracy: 0.9904 - val_loss: 0.0910 - val_accuracy: 0.9733\n",
            "Epoch 8/15\n",
            "1500/1500 [==============================] - 6s 4ms/step - loss: 0.0247 - accuracy: 0.9930 - val_loss: 0.0932 - val_accuracy: 0.9730\n",
            "Epoch 9/15\n",
            "1500/1500 [==============================] - 7s 5ms/step - loss: 0.0206 - accuracy: 0.9935 - val_loss: 0.0960 - val_accuracy: 0.9742\n",
            "Epoch 10/15\n",
            "1500/1500 [==============================] - 6s 4ms/step - loss: 0.0168 - accuracy: 0.9949 - val_loss: 0.0984 - val_accuracy: 0.9746\n",
            "Epoch 11/15\n",
            "1500/1500 [==============================] - 7s 5ms/step - loss: 0.0138 - accuracy: 0.9961 - val_loss: 0.0957 - val_accuracy: 0.9757\n",
            "Epoch 12/15\n",
            "1500/1500 [==============================] - 6s 4ms/step - loss: 0.0121 - accuracy: 0.9966 - val_loss: 0.0962 - val_accuracy: 0.9763\n",
            "Epoch 13/15\n",
            "1500/1500 [==============================] - 7s 5ms/step - loss: 0.0096 - accuracy: 0.9972 - val_loss: 0.1087 - val_accuracy: 0.9737\n",
            "Epoch 14/15\n",
            "1500/1500 [==============================] - 7s 5ms/step - loss: 0.0105 - accuracy: 0.9967 - val_loss: 0.1021 - val_accuracy: 0.9761\n",
            "Epoch 15/15\n",
            "1500/1500 [==============================] - 7s 4ms/step - loss: 0.0075 - accuracy: 0.9979 - val_loss: 0.1113 - val_accuracy: 0.9755\n"
          ]
        }
      ]
    },
    {
      "cell_type": "code",
      "source": [
        "y_pb = model.predict(X_test)"
      ],
      "metadata": {
        "execution": {
          "iopub.status.busy": "2024-03-30T09:27:54.833584Z",
          "iopub.execute_input": "2024-03-30T09:27:54.834138Z",
          "iopub.status.idle": "2024-03-30T09:27:56.208158Z",
          "shell.execute_reply.started": "2024-03-30T09:27:54.834086Z",
          "shell.execute_reply": "2024-03-30T09:27:56.206652Z"
        },
        "trusted": true,
        "id": "j8OkrsUXujFH",
        "outputId": "1b7f7eaf-f5de-4427-f383-12e7f5699171",
        "colab": {
          "base_uri": "https://localhost:8080/"
        }
      },
      "execution_count": 15,
      "outputs": [
        {
          "output_type": "stream",
          "name": "stdout",
          "text": [
            "313/313 [==============================] - 1s 3ms/step\n"
          ]
        }
      ]
    },
    {
      "cell_type": "code",
      "source": [
        "y_pd = y_pb.argmax(axis=1)"
      ],
      "metadata": {
        "execution": {
          "iopub.status.busy": "2024-03-30T09:28:23.407639Z",
          "iopub.execute_input": "2024-03-30T09:28:23.40924Z",
          "iopub.status.idle": "2024-03-30T09:28:23.41457Z",
          "shell.execute_reply.started": "2024-03-30T09:28:23.409168Z",
          "shell.execute_reply": "2024-03-30T09:28:23.413178Z"
        },
        "trusted": true,
        "id": "5E8s9Jg5ujFH"
      },
      "execution_count": 16,
      "outputs": []
    },
    {
      "cell_type": "code",
      "source": [
        "from sklearn.metrics import accuracy_score\n",
        "accuracy_score(y_test,y_pd)"
      ],
      "metadata": {
        "execution": {
          "iopub.status.busy": "2024-03-30T09:28:50.727913Z",
          "iopub.execute_input": "2024-03-30T09:28:50.72845Z",
          "iopub.status.idle": "2024-03-30T09:28:51.971645Z",
          "shell.execute_reply.started": "2024-03-30T09:28:50.728413Z",
          "shell.execute_reply": "2024-03-30T09:28:51.970335Z"
        },
        "trusted": true,
        "id": "pG-LxQXiujFH",
        "outputId": "6f3d1cd9-941b-4fea-8e45-459f2fff7db1",
        "colab": {
          "base_uri": "https://localhost:8080/"
        }
      },
      "execution_count": 17,
      "outputs": [
        {
          "output_type": "execute_result",
          "data": {
            "text/plain": [
              "0.9755"
            ]
          },
          "metadata": {},
          "execution_count": 17
        }
      ]
    },
    {
      "cell_type": "code",
      "source": [
        "plt.plot(history.history['accuracy'])\n",
        "plt.plot(history.history['val_accuracy'])"
      ],
      "metadata": {
        "execution": {
          "iopub.status.busy": "2024-03-30T09:29:18.998131Z",
          "iopub.execute_input": "2024-03-30T09:29:18.998989Z",
          "iopub.status.idle": "2024-03-30T09:29:19.309791Z",
          "shell.execute_reply.started": "2024-03-30T09:29:18.998941Z",
          "shell.execute_reply": "2024-03-30T09:29:19.308152Z"
        },
        "trusted": true,
        "id": "a8v7UomCujFH",
        "outputId": "85043ed9-9513-40a4-836b-816a1aff5c4c",
        "colab": {
          "base_uri": "https://localhost:8080/",
          "height": 447
        }
      },
      "execution_count": 12,
      "outputs": [
        {
          "output_type": "execute_result",
          "data": {
            "text/plain": [
              "[<matplotlib.lines.Line2D at 0x7d5434d8beb0>]"
            ]
          },
          "metadata": {},
          "execution_count": 12
        },
        {
          "output_type": "display_data",
          "data": {
            "text/plain": [
              "<Figure size 640x480 with 1 Axes>"
            ],
            "image/png": "[encoded data removed]"
          },
          "metadata": {}
        }
      ]
    },
    {
      "cell_type": "code",
      "source": [
        "plt.imshow(X_test[5])"
      ],
      "metadata": {
        "execution": {
          "iopub.status.busy": "2024-03-30T09:30:49.842679Z",
          "iopub.execute_input": "2024-03-30T09:30:49.843146Z",
          "iopub.status.idle": "2024-03-30T09:30:50.141433Z",
          "shell.execute_reply.started": "2024-03-30T09:30:49.843111Z",
          "shell.execute_reply": "2024-03-30T09:30:50.14021Z"
        },
        "trusted": true,
        "id": "MmQpmPhgujFH",
        "outputId": "d849d2fb-9b68-4524-8f80-2603cd95b4af",
        "colab": {
          "base_uri": "https://localhost:8080/",
          "height": 447
        }
      },
      "execution_count": 29,
      "outputs": [
        {
          "output_type": "execute_result",
          "data": {
            "text/plain": [
              "<matplotlib.image.AxesImage at 0x7d54151f02b0>"
            ]
          },
          "metadata": {},
          "execution_count": 29
        },
        {
          "output_type": "display_data",
          "data": {
            "text/plain": [
              "<Figure size 640x480 with 1 Axes>"
            ],
            "image/png": "[encoded data removed]"
          },
          "metadata": {}
        }
      ]
    },
    {
      "cell_type": "code",
      "source": [
        "model.predict(X_test[7].reshape(1,28,28)).argmax(axis=1)"
      ],
      "metadata": {
        "execution": {
          "iopub.status.busy": "2024-03-30T09:30:54.057497Z",
          "iopub.execute_input": "2024-03-30T09:30:54.057908Z",
          "iopub.status.idle": "2024-03-30T09:30:54.146502Z",
          "shell.execute_reply.started": "2024-03-30T09:30:54.057876Z",
          "shell.execute_reply": "2024-03-30T09:30:54.145479Z"
        },
        "trusted": true,
        "id": "iH_S23AiujFH",
        "outputId": "d2a34052-c326-4271-80f9-30844185e56d",
        "colab": {
          "base_uri": "https://localhost:8080/"
        }
      },
      "execution_count": 19,
      "outputs": [
        {
          "output_type": "stream",
          "name": "stdout",
          "text": [
            "1/1 [==============================] - 0s 21ms/step\n"
          ]
        },
        {
          "output_type": "execute_result",
          "data": {
            "text/plain": [
              "array([9])"
            ]
          },
          "metadata": {},
          "execution_count": 19
        }
      ]
    },
    {
      "cell_type": "code",
      "source": [
        "test=pd.read_csv('/content/kaggle/input/test.csv')\n",
        "test_values = test.values"
      ],
      "metadata": {
        "execution": {
          "iopub.status.busy": "2024-03-30T09:31:19.487588Z",
          "iopub.execute_input": "2024-03-30T09:31:19.488316Z",
          "iopub.status.idle": "2024-03-30T09:31:22.333751Z",
          "shell.execute_reply.started": "2024-03-30T09:31:19.488272Z",
          "shell.execute_reply": "2024-03-30T09:31:22.33276Z"
        },
        "trusted": true,
        "id": "Me8wbYp2ujFH"
      },
      "execution_count": 22,
      "outputs": []
    },
    {
      "cell_type": "code",
      "source": [
        "print(test_values.shape)\n",
        "print(X_test.shape)"
      ],
      "metadata": {
        "execution": {
          "iopub.status.busy": "2024-03-30T09:31:45.935871Z",
          "iopub.execute_input": "2024-03-30T09:31:45.936298Z",
          "iopub.status.idle": "2024-03-30T09:31:45.941763Z",
          "shell.execute_reply.started": "2024-03-30T09:31:45.936266Z",
          "shell.execute_reply": "2024-03-30T09:31:45.940596Z"
        },
        "trusted": true,
        "id": "hQFZD9LQujFH",
        "outputId": "dc4cc416-abbf-4a5e-e414-a5db198f23c6",
        "colab": {
          "base_uri": "https://localhost:8080/"
        }
      },
      "execution_count": 23,
      "outputs": [
        {
          "output_type": "stream",
          "name": "stdout",
          "text": [
            "(28000, 784)\n",
            "(10000, 28, 28)\n"
          ]
        }
      ]
    },
    {
      "cell_type": "code",
      "source": [
        "test_values_reshaped = test_values.reshape(28000, 28, 28)\n",
        "test_values_reshaped.shape"
      ],
      "metadata": {
        "execution": {
          "iopub.status.busy": "2024-03-30T09:31:55.035522Z",
          "iopub.execute_input": "2024-03-30T09:31:55.03633Z",
          "iopub.status.idle": "2024-03-30T09:31:55.044718Z",
          "shell.execute_reply.started": "2024-03-30T09:31:55.036272Z",
          "shell.execute_reply": "2024-03-30T09:31:55.043809Z"
        },
        "trusted": true,
        "id": "AGaoGNlOujFI",
        "outputId": "12e9d178-de27-4a4d-b5a4-d710cd48fed7",
        "colab": {
          "base_uri": "https://localhost:8080/"
        }
      },
      "execution_count": 24,
      "outputs": [
        {
          "output_type": "execute_result",
          "data": {
            "text/plain": [
              "(28000, 28, 28)"
            ]
          },
          "metadata": {},
          "execution_count": 24
        }
      ]
    },
    {
      "cell_type": "code",
      "source": [
        "test_out = model.predict(test_values_reshaped)"
      ],
      "metadata": {
        "execution": {
          "iopub.status.busy": "2024-03-30T09:32:04.584141Z",
          "iopub.execute_input": "2024-03-30T09:32:04.585776Z",
          "iopub.status.idle": "2024-03-30T09:32:07.503752Z",
          "shell.execute_reply.started": "2024-03-30T09:32:04.58571Z",
          "shell.execute_reply": "2024-03-30T09:32:07.50233Z"
        },
        "trusted": true,
        "id": "QmeO2TVpujFI",
        "outputId": "41c37ce9-e59c-43cb-bd37-6f2b547da330",
        "colab": {
          "base_uri": "https://localhost:8080/"
        }
      },
      "execution_count": 25,
      "outputs": [
        {
          "output_type": "stream",
          "name": "stdout",
          "text": [
            "875/875 [==============================] - 2s 2ms/step\n"
          ]
        }
      ]
    },
    {
      "cell_type": "code",
      "source": [
        "y =test_out.argmax(axis=1)\n",
        "submission = pd.DataFrame(y, columns=['Label'])\n",
        "submission.index.name = 'ImageId'\n",
        "submission.index += 1\n",
        "submission.to_csv('/content/kaggle/submission.csv')\n",
        "print('Submission completed!')"
      ],
      "metadata": {
        "execution": {
          "iopub.status.busy": "2024-03-30T09:32:35.473379Z",
          "iopub.execute_input": "2024-03-30T09:32:35.473783Z",
          "iopub.status.idle": "2024-03-30T09:32:35.523641Z",
          "shell.execute_reply.started": "2024-03-30T09:32:35.473752Z",
          "shell.execute_reply": "2024-03-30T09:32:35.522247Z"
        },
        "trusted": true,
        "id": "J0af8zfvujFI",
        "outputId": "66d20140-3b37-4231-c16f-b82bc883e3a3",
        "colab": {
          "base_uri": "https://localhost:8080/"
        }
      },
      "execution_count": 27,
      "outputs": [
        {
          "output_type": "stream",
          "name": "stdout",
          "text": [
            "Submission completed!\n"
          ]
        }
      ]
    }
  ]
}